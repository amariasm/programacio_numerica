{
 "cells": [
  {
   "cell_type": "markdown",
   "id": "52e42899-6ee0-4f27-a7a9-d1b46256aa0c",
   "metadata": {},
   "source": [
    "# Sprint 2 : S02 T04: Pràctica amb programació numèrica\n",
    "## Nivell 1\n",
    "### Exercici 1\n",
    "#### Crea una funció que donat un Array d’una dimensió, et faci un resum estadístic bàsic de les dades.\n",
    "#### Si detecta que l’array té més d’una dimensió, ha de mostrar un missatge d’error."
   ]
  },
  {
   "cell_type": "code",
   "execution_count": 32,
   "id": "08e96ddf-473c-4660-b5a3-8c20fb1a9fd4",
   "metadata": {},
   "outputs": [
    {
     "name": "stdout",
     "output_type": "stream",
     "text": [
      "Array.shape:  (8,)\n",
      "Dimensión:  1\n",
      "La Media es:  34.25\n",
      "La Mediana es : 28.5\n",
      "La Desviación Estándar es:  28.64921464892188\n",
      "Primer y Tercer cuantil: 9.45 , 54.5\n",
      "Rango Intercuantil:  45.05\n"
     ]
    }
   ],
   "source": [
    "import numpy as np\n",
    "arr = np.array([56, 10.4, 54, 3, 6.6,12,87,45])\n",
    "#arr = np.array([[1, 2, 3], [4, 5, 6], [7, 8, 9], [10, 11, 12]])\n",
    "\n",
    "def estadistica(arr):\n",
    "    dimension_shape = np.shape(arr)\n",
    "    print(\"Array.shape: \", dimension_shape)\n",
    "    dimension = np.ndim(arr)\n",
    "    print (\"Dimensión: \" , dimension)\n",
    "    if dimension > 1:\n",
    "        print(\"La dimensión del array es errónea\")\n",
    "    else:\n",
    "        media_arr = np.mean(arr)\n",
    "        print(\"La Media es: \", media_arr)\n",
    "        mediana_arr= np.median(arr)\n",
    "        print (\"La Mediana es :\", mediana_arr)\n",
    "        desv_std_arr = np.std(arr)\n",
    "        print (\"La Desviación Estándar es: \", desv_std_arr)\n",
    "        primer_cuantil = np.percentile(arr, 25)\n",
    "        tercer_cuantil = np.percentile(arr,75)\n",
    "        print(\"Primer y Tercer cuantil:\" , primer_cuantil,\",\", tercer_cuantil)\n",
    "        print(\"Rango Intercuantil: \", tercer_cuantil - primer_cuantil)\n",
    "\n",
    "\n",
    "estadistica(arr)"
   ]
  },
  {
   "cell_type": "markdown",
   "id": "5a71e748-1255-4f7e-a346-bd932f4000ff",
   "metadata": {},
   "source": [
    "### Exercici 2\n",
    "#### Crea una funció que et generi un quadrat NxN de nombres aleatoris entre el 0 i el 100."
   ]
  },
  {
   "cell_type": "code",
   "execution_count": 131,
   "id": "bd6252d6-d96f-44cd-8255-da7ee7d1fc6a",
   "metadata": {},
   "outputs": [
    {
     "name": "stdout",
     "output_type": "stream",
     "text": [
      "Los números aleatorios generados son: [39, 69, 72, 69, 89, 73, 85, 28, 36, 44]\n",
      "El cuadrado de los número aleatorios es:  [1521 4761 5184 4761 7921 5329 7225  784 1296 1936]\n"
     ]
    }
   ],
   "source": [
    "import random \n",
    "\n",
    "# generar números enteros aleatorios entre 0 y 100 : radom.radint (0,100)\n",
    "## Genera numero flotante aleatorio entre 0 y 100: random.uniform(0,100))\n",
    "\n",
    "numero = 0\n",
    "\n",
    "def cuadradoAleatorio(control):\n",
    "    lista_numeros = []\n",
    "    ## Creamos una lista con 10 números aleatorios entre 0 y 100\n",
    "    for i in range(control):\n",
    "        lista_numeros.append(random.randint(0,100))\n",
    "    \n",
    "    print(\"Los números aleatorios generados son:\" , lista_numeros)\n",
    "    print (\"El cuadrado de los número aleatorios es: \", np.power(lista_numeros,2))\n",
    "\n",
    "cuadradoAleatorio(10)"
   ]
  },
  {
   "cell_type": "markdown",
   "id": "50923c1e-fd6d-4864-b6fb-38b73598d6e9",
   "metadata": {},
   "source": [
    "### Exercici 3\n",
    "### Crea una funció que donada una taula de dues dimensions, et calculi els totals per fila i els totals per columna."
   ]
  },
  {
   "cell_type": "code",
   "execution_count": 132,
   "id": "d6a9f3ee-f3c1-4a76-9c68-f0cc5e29fb09",
   "metadata": {},
   "outputs": [
    {
     "name": "stdout",
     "output_type": "stream",
     "text": [
      "La suma de las filas es:  [ 4 10] . La suma de las columnas es:  [5 9]\n"
     ]
    }
   ],
   "source": [
    "import numpy as np\n",
    "datos = np.array([[1,3], [4, 6]])\n",
    "\n",
    "def suma(arr):\n",
    "    suma_columna = np.sum(arr, axis=0)    \n",
    "    suma_fila = np.sum(arr, axis=1)\n",
    "    print(\"La suma de las filas es: \", suma_fila, \". La suma de las columnas es: \", suma_columna)\n",
    "    \n",
    "\n",
    "suma(datos)\n"
   ]
  },
  {
   "cell_type": "markdown",
   "id": "39a5d4f6-dde0-4ad4-a85c-376e1e3e24b8",
   "metadata": {},
   "source": [
    "### Exercici 4\n",
    "#### Implementa manualment una funció que calculi el coeficient de correlació. Informa’t-en sobre els seus usos i interpretació."
   ]
  },
  {
   "cell_type": "code",
   "execution_count": 140,
   "id": "08807ebd-ace7-45a3-a7f1-c28c7134495d",
   "metadata": {},
   "outputs": [
    {
     "name": "stdout",
     "output_type": "stream",
     "text": [
      "[12  9  6  7  2  5  4  0  1  8]\n",
      "[ 3  5  1  9  5  3  7  2 10  5]\n",
      "Elementos de la muestra:  10\n",
      "El coeficiente de correlación es:  -0.16987094710168293\n"
     ]
    }
   ],
   "source": [
    "import numpy as np\n",
    "\n",
    "# Datos simulados de dos variables a y b\n",
    "a = np.array([12,9,6,7,2,5,4,0,1,8]) \n",
    "print(a)\n",
    "b = np.array([3,5,1,9,5,3,7,2,10,5])\n",
    "print(b)\n",
    "rango= a.size\n",
    "print(\"Elementos de la muestra: \", rango)\n",
    "\n",
    "def coeficienteCorr(a, b):\n",
    "    media_a = np.mean(a)\n",
    "    media_b = np.mean(b)\n",
    "\n",
    "    i = 0\n",
    "    numerador = 0\n",
    "    denominador = 0\n",
    "    denominador_a = 0\n",
    "    denominador_b = 0\n",
    "\n",
    "    for i in range(rango):\n",
    "        numerador = numerador + ((a[i]-media_a)*(b[i]-media_b))\n",
    "        denominador_a = denominador_a + ((a[i] - media_a))**2\n",
    "        denominador_b = denominador_b + ((b[i] - media_b))**2\n",
    "    denominador = (denominador_a * denominador_b)**(1/2)\n",
    "    coeficiente_corr = numerador /denominador\n",
    "    print (\"El coeficiente de correlación es: \", coeficiente_corr)\n",
    "\n",
    "coeficienteCorr(a,b)        \n",
    "        \n",
    "        \n",
    "    "
   ]
  }
 ],
 "metadata": {
  "kernelspec": {
   "display_name": "Python 3 (ipykernel)",
   "language": "python",
   "name": "python3"
  },
  "language_info": {
   "codemirror_mode": {
    "name": "ipython",
    "version": 3
   },
   "file_extension": ".py",
   "mimetype": "text/x-python",
   "name": "python",
   "nbconvert_exporter": "python",
   "pygments_lexer": "ipython3",
   "version": "3.9.7"
  }
 },
 "nbformat": 4,
 "nbformat_minor": 5
}
